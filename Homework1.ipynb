{
 "cells": [
  {
   "cell_type": "code",
   "execution_count": 8,
   "metadata": {},
   "outputs": [
    {
     "name": "stdout",
     "output_type": "stream",
     "text": [
      "108\n",
      "Total number of rows is:  8\n",
      "\n",
      "Printing each record\n",
      "first_name =  CARMEN\n",
      "last_name =  HUNT\n",
      "title =  ZOOLANDER FICTION\n",
      "description  =  A Fateful Reflection of a Waitress And a Boat who must Discover a Sumo Wrestler in Ancient China \n",
      "\n",
      "first_name =  MARY\n",
      "last_name =  TANDY\n",
      "title =  ZOOLANDER FICTION\n",
      "description  =  A Fateful Reflection of a Waitress And a Boat who must Discover a Sumo Wrestler in Ancient China \n",
      "\n",
      "first_name =  PENELOPE\n",
      "last_name =  CRONYN\n",
      "title =  ZOOLANDER FICTION\n",
      "description  =  A Fateful Reflection of a Waitress And a Boat who must Discover a Sumo Wrestler in Ancient China \n",
      "\n",
      "first_name =  WHOOPI\n",
      "last_name =  HURT\n",
      "title =  ZOOLANDER FICTION\n",
      "description  =  A Fateful Reflection of a Waitress And a Boat who must Discover a Sumo Wrestler in Ancient China \n",
      "\n",
      "first_name =  JADA\n",
      "last_name =  RYDER\n",
      "title =  ZOOLANDER FICTION\n",
      "description  =  A Fateful Reflection of a Waitress And a Boat who must Discover a Sumo Wrestler in Ancient China \n",
      "\n",
      "first_name =  IAN\n",
      "last_name =  TANDY\n",
      "title =  ZORRO ARK\n",
      "description  =  A Intrepid Panorama of a Mad Scientist And a Boy who must Redeem a Boy in A Monastery \n",
      "\n",
      "first_name =  NICK\n",
      "last_name =  DEGENERES\n",
      "title =  ZORRO ARK\n",
      "description  =  A Intrepid Panorama of a Mad Scientist And a Boy who must Redeem a Boy in A Monastery \n",
      "\n",
      "first_name =  LISA\n",
      "last_name =  MONROE\n",
      "title =  ZORRO ARK\n",
      "description  =  A Intrepid Panorama of a Mad Scientist And a Boy who must Redeem a Boy in A Monastery \n",
      "\n"
     ]
    }
   ],
   "source": [
    "import mysql.connector\n",
    "\n",
    "connect = mysql.connector.connect(user='root', password='password',\n",
    "                              host='127.0.0.1', database='sakila',\n",
    "                              auth_plugin='mysql_native_password')\n",
    "print(connect.connection_id)    \n",
    "\n",
    "cursor = connect.cursor()\n",
    "\n",
    "query = (\"\"\"select actor.first_name, actor.last_name, film_text.title, film_text.description \n",
    "from actor \n",
    "inner join film_actor on actor.actor_id = film_actor.actor_id\n",
    "inner join film_text on film_actor.film_id = film_text.film_id\n",
    "where title like 'zo%%'\"\"\")\n",
    "                  \n",
    "cursor.execute(query)\n",
    "\n",
    "records = cursor.fetchall()\n",
    "\n",
    "print(\"Total number of rows is: \", cursor.rowcount)\n",
    "\n",
    "print(\"\\nPrinting each record\")\n",
    "\n",
    "for row in records:\n",
    "        print(\"first_name = \", row[0], )\n",
    "        print(\"last_name = \", row[1])\n",
    "        print(\"title = \", row[2])\n",
    "        print(\"description  = \", row[3], \"\\n\")\n",
    "        \n",
    "# disconnect from server\n",
    "connect.close()"
   ]
  }
 ],
 "metadata": {
  "kernelspec": {
   "display_name": "Python 3",
   "language": "python",
   "name": "python3"
  },
  "language_info": {
   "codemirror_mode": {
    "name": "ipython",
    "version": 3
   },
   "file_extension": ".py",
   "mimetype": "text/x-python",
   "name": "python",
   "nbconvert_exporter": "python",
   "pygments_lexer": "ipython3",
   "version": "3.7.3"
  }
 },
 "nbformat": 4,
 "nbformat_minor": 2
}
